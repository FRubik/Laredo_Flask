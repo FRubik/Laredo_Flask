{
 "cells": [
  {
   "cell_type": "code",
   "execution_count": 2,
   "metadata": {},
   "outputs": [],
   "source": [
    "import pandas as pd\n",
    "import requests\n",
    "import json"
   ]
  },
  {
   "cell_type": "code",
   "execution_count": 11,
   "metadata": {},
   "outputs": [],
   "source": [
    "df = pd.read_csv('API_test.csv')"
   ]
  },
  {
   "cell_type": "code",
   "execution_count": 12,
   "metadata": {},
   "outputs": [
    {
     "data": {
      "text/html": [
       "<div>\n",
       "<style scoped>\n",
       "    .dataframe tbody tr th:only-of-type {\n",
       "        vertical-align: middle;\n",
       "    }\n",
       "\n",
       "    .dataframe tbody tr th {\n",
       "        vertical-align: top;\n",
       "    }\n",
       "\n",
       "    .dataframe thead th {\n",
       "        text-align: right;\n",
       "    }\n",
       "</style>\n",
       "<table border=\"1\" class=\"dataframe\">\n",
       "  <thead>\n",
       "    <tr style=\"text-align: right;\">\n",
       "      <th></th>\n",
       "      <th>COD_CLI</th>\n",
       "      <th>STATUS</th>\n",
       "      <th>IFIN1</th>\n",
       "      <th>IFIN2</th>\n",
       "      <th>IFIN3</th>\n",
       "      <th>IFIN4</th>\n",
       "      <th>IFIN5</th>\n",
       "      <th>IFIN6</th>\n",
       "      <th>IFIN7</th>\n",
       "      <th>IFIN8</th>\n",
       "      <th>...</th>\n",
       "      <th>REST_TIPO_1</th>\n",
       "      <th>REST_TIPO_2</th>\n",
       "      <th>REST_TIPO_3</th>\n",
       "      <th>REST_TIPO_4</th>\n",
       "      <th>REST_TIPO_5</th>\n",
       "      <th>UF</th>\n",
       "      <th>IDADE</th>\n",
       "      <th>RAMO</th>\n",
       "      <th>NUM_SOCIOS</th>\n",
       "      <th>calculated_score</th>\n",
       "    </tr>\n",
       "  </thead>\n",
       "  <tbody>\n",
       "    <tr>\n",
       "      <th>10</th>\n",
       "      <td>2884</td>\n",
       "      <td>0</td>\n",
       "      <td>0.4</td>\n",
       "      <td>119.24</td>\n",
       "      <td>0.00</td>\n",
       "      <td>0.00</td>\n",
       "      <td>40.5</td>\n",
       "      <td>11.38</td>\n",
       "      <td>1.35</td>\n",
       "      <td>747.6</td>\n",
       "      <td>...</td>\n",
       "      <td>0</td>\n",
       "      <td>0</td>\n",
       "      <td>0</td>\n",
       "      <td>0</td>\n",
       "      <td>0</td>\n",
       "      <td>SP</td>\n",
       "      <td>17.0</td>\n",
       "      <td>5</td>\n",
       "      <td>2</td>\n",
       "      <td>480</td>\n",
       "    </tr>\n",
       "    <tr>\n",
       "      <th>14</th>\n",
       "      <td>2380</td>\n",
       "      <td>1</td>\n",
       "      <td>15.1</td>\n",
       "      <td>379.40</td>\n",
       "      <td>87.32</td>\n",
       "      <td>1.36</td>\n",
       "      <td>24.4</td>\n",
       "      <td>12.33</td>\n",
       "      <td>0.05</td>\n",
       "      <td>224.0</td>\n",
       "      <td>...</td>\n",
       "      <td>13</td>\n",
       "      <td>0</td>\n",
       "      <td>0</td>\n",
       "      <td>0</td>\n",
       "      <td>0</td>\n",
       "      <td>SP</td>\n",
       "      <td>33.0</td>\n",
       "      <td>7</td>\n",
       "      <td>3</td>\n",
       "      <td>180</td>\n",
       "    </tr>\n",
       "    <tr>\n",
       "      <th>4</th>\n",
       "      <td>2830</td>\n",
       "      <td>1</td>\n",
       "      <td>687.8</td>\n",
       "      <td>12417.22</td>\n",
       "      <td>72.52</td>\n",
       "      <td>0.41</td>\n",
       "      <td>11.2</td>\n",
       "      <td>13.49</td>\n",
       "      <td>-4.35</td>\n",
       "      <td>436.8</td>\n",
       "      <td>...</td>\n",
       "      <td>7</td>\n",
       "      <td>0</td>\n",
       "      <td>1</td>\n",
       "      <td>1</td>\n",
       "      <td>8</td>\n",
       "      <td>SP</td>\n",
       "      <td>50.0</td>\n",
       "      <td>1</td>\n",
       "      <td>4</td>\n",
       "      <td>295</td>\n",
       "    </tr>\n",
       "  </tbody>\n",
       "</table>\n",
       "<p>3 rows × 23 columns</p>\n",
       "</div>"
      ],
      "text/plain": [
       "    COD_CLI  STATUS  IFIN1     IFIN2  IFIN3  IFIN4  IFIN5  IFIN6  IFIN7  \\\n",
       "10     2884       0    0.4    119.24   0.00   0.00   40.5  11.38   1.35   \n",
       "14     2380       1   15.1    379.40  87.32   1.36   24.4  12.33   0.05   \n",
       "4      2830       1  687.8  12417.22  72.52   0.41   11.2  13.49  -4.35   \n",
       "\n",
       "    IFIN8  ...  REST_TIPO_1  REST_TIPO_2  REST_TIPO_3  REST_TIPO_4  \\\n",
       "10  747.6  ...            0            0            0            0   \n",
       "14  224.0  ...           13            0            0            0   \n",
       "4   436.8  ...            7            0            1            1   \n",
       "\n",
       "    REST_TIPO_5  UF  IDADE  RAMO NUM_SOCIOS  calculated_score  \n",
       "10            0  SP   17.0     5          2               480  \n",
       "14            0  SP   33.0     7          3               180  \n",
       "4             8  SP   50.0     1          4               295  \n",
       "\n",
       "[3 rows x 23 columns]"
      ]
     },
     "execution_count": 12,
     "metadata": {},
     "output_type": "execute_result"
    }
   ],
   "source": [
    "df.rename(columns={'score': 'calculated_score'}, inplace=True)\n",
    "df['calculated_score'] = df['calculated_score'].astype(int)\n",
    "df.sample(3)"
   ]
  },
  {
   "cell_type": "code",
   "execution_count": 18,
   "metadata": {},
   "outputs": [],
   "source": [
    "url = \"https://seunome.pythonanywhere.com/\"\n",
    "\n",
    "all_responses = []\n",
    "for req in df.to_dict(orient='records'):\n",
    "    payload = json.dumps(req)\n",
    "    headers = {'Content-Type': 'application/json'}\n",
    "\n",
    "    response = requests.request(\"GET\", url, headers=headers, data=payload)\n",
    "    all_responses.append(response.json())"
   ]
  },
  {
   "cell_type": "code",
   "execution_count": 19,
   "metadata": {},
   "outputs": [],
   "source": [
    "df_responses = pd.DataFrame(all_responses)\n",
    "df_responses.sample(3)"
   ]
  },
  {
   "cell_type": "code",
   "execution_count": 22,
   "metadata": {},
   "outputs": [],
   "source": [
    "df_final = df.merge(df_responses.rename(columns={'cod_cli': 'COD_CLI'}), on='COD_CLI')"
   ]
  },
  {
   "cell_type": "code",
   "execution_count": 25,
   "metadata": {},
   "outputs": [
    {
     "name": "stdout",
     "output_type": "stream",
     "text": [
      "Max diff: 0\n",
      "mim diff: 0\n",
      "Sum diff: 0\n"
     ]
    }
   ],
   "source": [
    "df_final['diff'] = df_final['calculated_score'] - df_final['score']\n",
    "print('Max diff:', df_final['diff'].max())\n",
    "print('mim diff:', df_final['diff'].min())\n",
    "print('Sum diff:', df_final['diff'].sum())\n"
   ]
  }
 ],
 "metadata": {
  "kernelspec": {
   "display_name": "Python 3",
   "language": "python",
   "name": "python3"
  },
  "language_info": {
   "codemirror_mode": {
    "name": "ipython",
    "version": 3
   },
   "file_extension": ".py",
   "mimetype": "text/x-python",
   "name": "python",
   "nbconvert_exporter": "python",
   "pygments_lexer": "ipython3",
   "version": "3.8.8rc1"
  }
 },
 "nbformat": 4,
 "nbformat_minor": 2
}
